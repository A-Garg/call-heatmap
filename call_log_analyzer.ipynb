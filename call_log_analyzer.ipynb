{
 "cells": [
  {
   "cell_type": "code",
   "execution_count": 432,
   "id": "capital-fraud",
   "metadata": {},
   "outputs": [],
   "source": [
    "####################################\n",
    "#                                  #\n",
    "#  call_log_analyzer.ipynb         #\n",
    "#  Akhil Garg, akhil@akhilgarg.ca  #\n",
    "#  Created 2021-04-16              #\n",
    "#                                  #\n",
    "####################################\n",
    "\n",
    "'''\n",
    "Takes in a gmail call log as a .mbox file\n",
    "And returns a pandas dataframe of calls made\n",
    "to the Kingston Health Sciences Centre\n",
    "'''\n",
    "\n",
    "import pandas  as pd\n",
    "import numpy   as np\n",
    "import mailbox as mb\n",
    "import matplotlib.pyplot as plt\n",
   ]
  },
  {
   "cell_type": "markdown",
   "id": "northern-burlington",
   "metadata": {},
   "source": [
    "## Date and types of on-calls"
   ]
  },
  {
   "cell_type": "code",
   "execution_count": 438,
   "id": "successful-return",
   "metadata": {},
   "outputs": [
    {
     "name": "stdout",
     "output_type": "stream",
     "text": [
      "                          Start                 End     Type\n",
      "On-call Day                                                 \n",
      "2021-04-05  2021-04-05 16:00:00 2021-04-06 10:00:00  nontake\n",
      "2021-04-15  2021-04-15 16:00:00 2021-04-16 10:00:00  subspec\n"
     ]
    }
   ],
   "source": [
    "# List of calls, their start times, and type\n",
    "# oncall_data = [('2021-04-05 16:00','nontake'),\n",
    "#                ('2021-04-13 16:00','take'),\n",
    "#                ('2021-04-15 16:00','subspec'), \n",
    "#                ('2021-04-27 16:00','subspec')]\n",
    "\n",
    "oncall_data = [('2021-04-05 16:00','nontake'),\n",
    "               ('2021-04-15 16:00','subspec')]\n",
    "\n",
    "# Empty dataframe of start and end dates\n",
    "oncalls = pd.DataFrame(columns = ['Start','End','Type'])\n",
    "\n",
    "for oncall in oncall_data:\n",
    "    start = pd.to_datetime(oncall[0]).tz_localize(None)\n",
    "    # For each call shift start, the end is the next day at 10 AM\n",
    "    end = str((start + pd.DateOffset(1)).date()) + ' 10:00'\n",
    "    end = pd.to_datetime(end)\n",
    "\n",
    "    oncalls = oncalls.append({'Start':start,\n",
    "                              'End':end,\n",
    "                              'Type':oncall[1]\n",
    "                             },ignore_index=True)\n",
    "\n",
    "# Create an index\n",
    "oncalls = oncalls.set_index(oncalls['Start'].dt.date)\n",
    "oncalls = oncalls.rename_axis('On-call Day')\n",
    "print(oncalls)\n",
    "\n",
    "# Store all call types for later\n",
    "call_types = set(oncalls['Type'].values)"
   ]
  },
  {
   "cell_type": "markdown",
   "id": "announced-commodity",
   "metadata": {},
   "source": [
    "## Parse call log data from gmail"
   ]
  },
  {
   "cell_type": "code",
   "execution_count": 434,
   "id": "three-original",
   "metadata": {},
   "outputs": [
    {
     "name": "stdout",
     "output_type": "stream",
     "text": [
      "              Timestamp Duration\n",
      "0   2020-07-06 09:45:25        0\n",
      "1   2020-07-08 17:04:04      168\n",
      "2   2020-07-08 17:16:51       61\n",
      "3   2020-07-08 20:47:19       84\n",
      "4   2020-07-08 20:54:45       86\n",
      "..                  ...      ...\n",
      "187 2021-04-16 05:53:54       58\n",
      "188 2021-04-16 07:12:15       63\n",
      "189 2021-04-16 07:21:52       91\n",
      "190 2021-04-16 07:54:02       14\n",
      "191 2021-04-16 07:54:21       11\n",
      "\n",
      "[192 rows x 2 columns]\n"
     ]
    }
   ],
   "source": [
    "mb = mb.mbox('Call log.mbox')\n",
    "call_log = pd.DataFrame(columns = ['Timestamp','Duration'])\n",
    "\n",
    "for message in mb:\n",
    "    \n",
    "    # Skip non call log emails\n",
    "    if 'Call log' not in message['X-Gmail-Labels'].split(','): continue\n",
    "    \n",
    "    # Only keep calls associated with the Kingston Health Sciences Centre\n",
    "    if ('Kingston Health Sciences Centre' not in message['Subject']) and \\\n",
    "       (message['X-smssync-address'] != '16135496666'): continue\n",
    "    \n",
    "    # Calculate timestamp and duration of call\n",
    "    timestamp = pd.to_datetime(message['Date']).tz_localize(None)\n",
    "    \n",
    "    duration  = message.get_payload().split('\\n')[0] #1st line is duration\n",
    "    duration  = duration.split('s')[0] #part before 's' is duration in seconds\n",
    "    duration  = int(duration)\n",
    "    \n",
    "    call_log = call_log.append({'Timestamp':timestamp,'Duration':duration},ignore_index=True)\n",
    "\n",
    "# Sort, clean, and re-index\n",
    "call_log = call_log.sort_values(by='Timestamp')  \n",
    "call_log = call_log.drop_duplicates()\n",
    "call_log = call_log.reset_index(drop=True)\n",
    "\n",
    "print(call_log)"
   ]
  },
  {
   "cell_type": "markdown",
   "id": "racial-medicare",
   "metadata": {},
   "source": [
    "## Relate phone call data to specific on-calls"
   ]
  },
  {
   "cell_type": "code",
   "execution_count": 439,
   "id": "compressed-starter",
   "metadata": {},
   "outputs": [
    {
     "name": "stdout",
     "output_type": "stream",
     "text": [
      "Stats from nontake call on 2021-04-05:\n",
      "\n",
      "Total pages             16\n",
      "Mean duration of each   93.1s\n",
      "Earliest page           16:05:46\n",
      "Latest page             07:48:41\n",
      "\n",
      "\n",
      "Stats from subspec call on 2021-04-15:\n",
      "\n",
      "Total pages             33\n",
      "Mean duration of each   80.3s\n",
      "Earliest page           17:20:16\n",
      "Latest page             07:54:21\n",
      "\n",
      "\n"
     ]
    }
   ],
   "source": [
    "# Dataframe of all pages on all calls\n",
    "all_calls = pd.DataFrame(columns=['Timestamp','Duration','Type'])\n",
    "pd.options.mode.chained_assignment = None #suppress warning\n",
    "\n",
    "for oncall in oncalls.itertuples():\n",
    "    \n",
    "    # Itertuples generates tuples of (index,start,end,type)\n",
    "    new_calls = call_log[(call_log['Timestamp'] > oncall[1]) &\n",
    "                         (call_log['Timestamp'] < oncall[2])]\n",
    "    new_calls['Type'] = oncall[3]\n",
    "\n",
    "    print('Stats from {} call on {}:\\n'.format(oncall[3],oncall[0]))            \n",
    "    print('Total pages             {}'.format(len(new_calls.index)))\n",
    "    \n",
    "    try:\n",
    "        min(new_calls['Timestamp'])\n",
    "        print('Mean duration of each   {:.1f}s'.format(new_calls['Duration'] .mean()))\n",
    "        print('Earliest page           {}'.format(min(new_calls['Timestamp']).time()))\n",
    "        print('Latest page             {}'.format(max(new_calls['Timestamp']).time()))\n",
    "    \n",
    "    # If there are no calls that particular day\n",
    "    except ValueError: continue\n",
    "    \n",
    "    print('\\n')\n",
    "\n",
    "    all_calls = all_calls.append(new_calls)\n",
    "    \n",
    "all_calls = all_calls.reset_index(drop=True)"
   ]
  },
  {
   "cell_type": "markdown",
   "id": "preceding-first",
   "metadata": {},
   "source": [
    "## Make a heatmap of call times"
   ]
  },
  {
   "cell_type": "code",
   "execution_count": 440,
   "id": "removable-judge",
   "metadata": {},
   "outputs": [],
   "source": [
    "# Count the number of calls during each hour\n",
    "hourly_group = all_calls.groupby(\n",
    "    [pd.Grouper(key='Timestamp',freq='H'),all_calls.Type]) \\\n",
    "    .size() \\\n",
    "    .reset_index(name='Count')\n",
    "\n",
    "# Add a column for hour only, ignoring dates\n",
    "hourly_group['Hour'] = hourly_group['Timestamp'].dt.hour\n",
    "# Rearrange columns\n",
    "hourly_group = hourly_group[['Timestamp','Hour','Type','Count']]\n",
    "\n",
    "# Add zeros to hours that did not have any calls\n",
    "for call_type in call_types: \n",
    "    \n",
    "    # 24 hours\n",
    "    for i in range(24):\n",
    "        \n",
    "        # Skip hours that are already represented in the dataset\n",
    "        if (i in hourly_group[hourly_group['Type'] == call_type]['Hour'].values):\n",
    "            continue\n",
    "            \n",
    "        else: \n",
    "            hourly_group = hourly_group.append({'Hour':i,'Type':call_type,'Count':0},ignore_index=True) \n",
    "\n",
    "# Take the mean of number of calls per hour per type of call\n",
    "hourly_means = hourly_group.groupby(['Type','Hour'])['Count'].mean()\n",
    "\n",
    "# Shift the range to start at noon instead of at midnight\n",
    "hour_list = list(range(12,24))+list(range(12))\n",
    "hourly_means = hourly_means.reindex(hour_list, level = 1)\n",
    "\n",
    "# Convert data to an array to be plotted\n",
    "heatmap_data = []\n",
    "for call_type in call_types:\n",
    "        heatmap_data.append(hourly_means[call_type].values)"
   ]
  },
  {
   "cell_type": "code",
   "execution_count": 443,
   "id": "failing-portugal",
   "metadata": {},
   "outputs": [
    {
     "data": {
      "image/png": "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\n",
      "text/plain": [
       "<Figure size 1080x360 with 1 Axes>"
      ]
     },
     "metadata": {
      "needs_background": "light"
     },
     "output_type": "display_data"
    }
   ],
   "source": [
    "fig, ax = plt.subplots(figsize=(15,5))\n",
    "        \n",
    "ax.imshow(heatmap_data)\n",
    "\n",
    "# Format tickmarks\n",
    "ax.set_xticks(np.arange(len(hour_list)))\n",
    "ax.set_yticks(np.arange(len(call_types)))\n",
    "# Convert 12 to noon and 0 to midnight, \n",
    "# and convert int to str to prevent re-ordering\n",
    "x_ticks = [str({12:'noon',0:'midn'}.get(x,x)) for x in hour_list]\n",
    "ax.set_xticklabels(x_ticks)\n",
    "ax.set_yticklabels(call_types)\n",
    "\n",
    "# Add labels\n",
    "for i in range(len(call_types)):\n",
    "    for j in range(len(hour_list)):\n",
    "        text = ax.text(j, i, heatmap_data[i][j],\n",
    "                       ha=\"center\", va=\"center\", color=\"w\")\n",
    "\n",
    "# Label the axes\n",
    "ax.set_xlabel('Hour')\n",
    "ax.set_ylabel('Call type')\n",
    "ax.set_title('Average number of pages per hour on call')\n",
    "\n",
    "plt.show()"
   ]
  },
  {
   "cell_type": "code",
   "execution_count": null,
   "id": "refined-perth",
   "metadata": {},
   "outputs": [],
   "source": []
  }
 ],
 "metadata": {
  "kernelspec": {
   "display_name": "Python 3",
   "language": "python",
   "name": "python3"
  },
  "language_info": {
   "codemirror_mode": {
    "name": "ipython",
    "version": 3
   },
   "file_extension": ".py",
   "mimetype": "text/x-python",
   "name": "python",
   "nbconvert_exporter": "python",
   "pygments_lexer": "ipython3",
   "version": "3.9.1"
  }
 },
 "nbformat": 4,
 "nbformat_minor": 5
}
